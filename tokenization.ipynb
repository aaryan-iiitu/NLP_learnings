{
 "cells": [
  {
   "cell_type": "code",
   "execution_count": 1,
   "id": "93629135-08ad-4bce-9b7c-6d4148a80070",
   "metadata": {},
   "outputs": [
    {
     "name": "stdout",
     "output_type": "stream",
     "text": [
      "Requirement already satisfied: nltk in c:\\users\\hp\\anaconda3\\lib\\site-packages (3.8.1)\n",
      "Requirement already satisfied: click in c:\\users\\hp\\anaconda3\\lib\\site-packages (from nltk) (8.1.7)\n",
      "Requirement already satisfied: joblib in c:\\users\\hp\\anaconda3\\lib\\site-packages (from nltk) (1.2.0)\n",
      "Requirement already satisfied: regex>=2021.8.3 in c:\\users\\hp\\anaconda3\\lib\\site-packages (from nltk) (2023.10.3)\n",
      "Requirement already satisfied: tqdm in c:\\users\\hp\\anaconda3\\lib\\site-packages (from nltk) (4.65.0)\n",
      "Requirement already satisfied: colorama in c:\\users\\hp\\anaconda3\\lib\\site-packages (from click->nltk) (0.4.6)\n"
     ]
    }
   ],
   "source": [
    "!pip install nltk"
   ]
  },
  {
   "cell_type": "code",
   "execution_count": 19,
   "id": "e25c2067-9169-48cc-87db-f88c5fddd2aa",
   "metadata": {},
   "outputs": [],
   "source": [
    "import nltk"
   ]
  },
  {
   "cell_type": "code",
   "execution_count": 21,
   "id": "5696a00e-4420-4d19-bea8-34a3d8294b37",
   "metadata": {},
   "outputs": [
    {
     "name": "stderr",
     "output_type": "stream",
     "text": [
      "[nltk_data] Downloading package punkt to\n",
      "[nltk_data]     C:\\Users\\HP\\AppData\\Roaming\\nltk_data...\n",
      "[nltk_data]   Unzipping tokenizers\\punkt.zip.\n"
     ]
    },
    {
     "data": {
      "text/plain": [
       "True"
      ]
     },
     "execution_count": 21,
     "metadata": {},
     "output_type": "execute_result"
    }
   ],
   "source": [
    "nltk.download('punkt')"
   ]
  },
  {
   "cell_type": "code",
   "execution_count": 23,
   "id": "52343364-a25f-452b-9559-a85cd0c78aad",
   "metadata": {},
   "outputs": [],
   "source": [
    "corpus=\"\"\" Hello and welcome to my NLP repo.\n",
    " I have added whatever i have learned related to NLP in this repo.\n",
    "        \"\"\""
   ]
  },
  {
   "cell_type": "code",
   "execution_count": 25,
   "id": "c57f1e8c-0e7b-4a0b-a0b2-59225afd10b4",
   "metadata": {},
   "outputs": [
    {
     "name": "stdout",
     "output_type": "stream",
     "text": [
      " Hello and welcome to my NLP repo.\n",
      " I have added whatever i have learned related to NLP in this repo.\n",
      "        \n"
     ]
    }
   ],
   "source": [
    "print(corpus)"
   ]
  },
  {
   "cell_type": "code",
   "execution_count": 31,
   "id": "7b72b15b-af97-4549-9646-5ac7cbb873fe",
   "metadata": {},
   "outputs": [],
   "source": [
    "from nltk.tokenize import sent_tokenize"
   ]
  },
  {
   "cell_type": "code",
   "execution_count": 33,
   "id": "0ea70d4f-44cf-43bc-bd4c-f0eae3231de8",
   "metadata": {},
   "outputs": [],
   "source": [
    "documents=sent_tokenize(corpus)"
   ]
  },
  {
   "cell_type": "code",
   "execution_count": 35,
   "id": "2aedc956-c5f2-4b5e-ae53-d2eb316aac4d",
   "metadata": {},
   "outputs": [
    {
     "data": {
      "text/plain": [
       "list"
      ]
     },
     "execution_count": 35,
     "metadata": {},
     "output_type": "execute_result"
    }
   ],
   "source": [
    "type(documents)"
   ]
  },
  {
   "cell_type": "code",
   "execution_count": 37,
   "id": "40a62bb3-c6c3-4d81-b395-9f9538a71466",
   "metadata": {},
   "outputs": [
    {
     "data": {
      "text/plain": [
       "[' Hello and welcome to my NLP repo.',\n",
       " 'I have added whatever i have learned related to NLP in this repo.']"
      ]
     },
     "execution_count": 37,
     "metadata": {},
     "output_type": "execute_result"
    }
   ],
   "source": [
    "documents"
   ]
  },
  {
   "cell_type": "code",
   "execution_count": 39,
   "id": "d9174d1e-0ad7-4159-ad39-52e5b8615843",
   "metadata": {},
   "outputs": [
    {
     "name": "stdout",
     "output_type": "stream",
     "text": [
      " Hello and welcome to my NLP repo.\n",
      "I have added whatever i have learned related to NLP in this repo.\n"
     ]
    }
   ],
   "source": [
    "for sentence in documents:\n",
    "    print(sentence)"
   ]
  },
  {
   "cell_type": "code",
   "execution_count": 41,
   "id": "974bd10d-a7f0-49b9-bf2b-82abae7c3485",
   "metadata": {},
   "outputs": [],
   "source": [
    "from nltk.tokenize import word_tokenize"
   ]
  },
  {
   "cell_type": "code",
   "execution_count": 43,
   "id": "718da23d-888c-450d-9823-d68c693a998a",
   "metadata": {},
   "outputs": [
    {
     "data": {
      "text/plain": [
       "['Hello',\n",
       " 'and',\n",
       " 'welcome',\n",
       " 'to',\n",
       " 'my',\n",
       " 'NLP',\n",
       " 'repo',\n",
       " '.',\n",
       " 'I',\n",
       " 'have',\n",
       " 'added',\n",
       " 'whatever',\n",
       " 'i',\n",
       " 'have',\n",
       " 'learned',\n",
       " 'related',\n",
       " 'to',\n",
       " 'NLP',\n",
       " 'in',\n",
       " 'this',\n",
       " 'repo',\n",
       " '.']"
      ]
     },
     "execution_count": 43,
     "metadata": {},
     "output_type": "execute_result"
    }
   ],
   "source": [
    "word_tokenize(corpus)"
   ]
  },
  {
   "cell_type": "code",
   "execution_count": 45,
   "id": "4338cfb1-aadd-4ea1-bdcd-f99f4ab464da",
   "metadata": {},
   "outputs": [
    {
     "name": "stdout",
     "output_type": "stream",
     "text": [
      "['Hello', 'and', 'welcome', 'to', 'my', 'NLP', 'repo', '.']\n",
      "['I', 'have', 'added', 'whatever', 'i', 'have', 'learned', 'related', 'to', 'NLP', 'in', 'this', 'repo', '.']\n"
     ]
    }
   ],
   "source": [
    "for sentence in documents:\n",
    "    print(word_tokenize(sentence))"
   ]
  },
  {
   "cell_type": "code",
   "execution_count": 49,
   "id": "53394015-c706-4910-a493-100f8bc61931",
   "metadata": {},
   "outputs": [],
   "source": [
    "from nltk.tokenize import wordpunct_tokenize"
   ]
  },
  {
   "cell_type": "code",
   "execution_count": 51,
   "id": "a7ccb6c1-d670-4fb5-8b16-76bcb8a8af1a",
   "metadata": {},
   "outputs": [
    {
     "data": {
      "text/plain": [
       "['Hello',\n",
       " 'and',\n",
       " 'welcome',\n",
       " 'to',\n",
       " 'my',\n",
       " 'NLP',\n",
       " 'repo',\n",
       " '.',\n",
       " 'I',\n",
       " 'have',\n",
       " 'added',\n",
       " 'whatever',\n",
       " 'i',\n",
       " 'have',\n",
       " 'learned',\n",
       " 'related',\n",
       " 'to',\n",
       " 'NLP',\n",
       " 'in',\n",
       " 'this',\n",
       " 'repo',\n",
       " '.']"
      ]
     },
     "execution_count": 51,
     "metadata": {},
     "output_type": "execute_result"
    }
   ],
   "source": [
    "wordpunct_tokenize(corpus)"
   ]
  },
  {
   "cell_type": "code",
   "execution_count": 53,
   "id": "74a32233-d64e-4bfc-bba6-54fe3f6db7fc",
   "metadata": {},
   "outputs": [],
   "source": [
    "from nltk.tokenize import TreebankWordTokenizer"
   ]
  },
  {
   "cell_type": "code",
   "execution_count": 55,
   "id": "d9d543a3-2e2f-4dfc-9a16-a5a447592ee6",
   "metadata": {},
   "outputs": [],
   "source": [
    "tokenizer=TreebankWordTokenizer()"
   ]
  },
  {
   "cell_type": "code",
   "execution_count": 57,
   "id": "13da26d6-492e-48a4-8256-fa505a886083",
   "metadata": {},
   "outputs": [
    {
     "data": {
      "text/plain": [
       "['Hello',\n",
       " 'and',\n",
       " 'welcome',\n",
       " 'to',\n",
       " 'my',\n",
       " 'NLP',\n",
       " 'repo.',\n",
       " 'I',\n",
       " 'have',\n",
       " 'added',\n",
       " 'whatever',\n",
       " 'i',\n",
       " 'have',\n",
       " 'learned',\n",
       " 'related',\n",
       " 'to',\n",
       " 'NLP',\n",
       " 'in',\n",
       " 'this',\n",
       " 'repo',\n",
       " '.']"
      ]
     },
     "execution_count": 57,
     "metadata": {},
     "output_type": "execute_result"
    }
   ],
   "source": [
    "tokenizer.tokenize(corpus)"
   ]
  },
  {
   "cell_type": "code",
   "execution_count": null,
   "id": "06ffbea9-36e9-4224-b12f-0780fe2657ad",
   "metadata": {},
   "outputs": [],
   "source": []
  }
 ],
 "metadata": {
  "kernelspec": {
   "display_name": "Python 3 (ipykernel)",
   "language": "python",
   "name": "python3"
  },
  "language_info": {
   "codemirror_mode": {
    "name": "ipython",
    "version": 3
   },
   "file_extension": ".py",
   "mimetype": "text/x-python",
   "name": "python",
   "nbconvert_exporter": "python",
   "pygments_lexer": "ipython3",
   "version": "3.11.7"
  }
 },
 "nbformat": 4,
 "nbformat_minor": 5
}
